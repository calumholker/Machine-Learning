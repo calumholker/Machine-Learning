{
 "metadata": {
  "language_info": {
   "codemirror_mode": {
    "name": "ipython",
    "version": 3
   },
   "file_extension": ".py",
   "mimetype": "text/x-python",
   "name": "python",
   "nbconvert_exporter": "python",
   "pygments_lexer": "ipython3",
   "version": "3.7.4-final"
  },
  "orig_nbformat": 2,
  "kernelspec": {
   "name": "python3",
   "display_name": "Python 3",
   "language": "python"
  }
 },
 "nbformat": 4,
 "nbformat_minor": 2,
 "cells": [
  {
   "cell_type": "code",
   "execution_count": 1,
   "metadata": {},
   "outputs": [
    {
     "output_type": "stream",
     "name": "stdout",
     "text": [
      "Epoch 1/10\n",
      "546/546 [==============================] - 470s 860ms/step - loss: 0.6761 - accuracy: 0.5693 - val_loss: 0.5972 - val_accuracy: 0.6852\n",
      "Epoch 2/10\n",
      "546/546 [==============================] - 504s 924ms/step - loss: 0.5643 - accuracy: 0.7085 - val_loss: 0.5694 - val_accuracy: 0.7098\n",
      "Epoch 3/10\n",
      "546/546 [==============================] - 522s 956ms/step - loss: 0.4966 - accuracy: 0.7609 - val_loss: 0.5085 - val_accuracy: 0.7472\n",
      "Epoch 4/10\n",
      "546/546 [==============================] - 464s 850ms/step - loss: 0.4454 - accuracy: 0.7909 - val_loss: 0.4718 - val_accuracy: 0.7759\n",
      "Epoch 5/10\n",
      "546/546 [==============================] - 483s 884ms/step - loss: 0.4024 - accuracy: 0.8141 - val_loss: 0.4789 - val_accuracy: 0.7815\n",
      "Epoch 6/10\n",
      "546/546 [==============================] - 480s 880ms/step - loss: 0.3541 - accuracy: 0.8423 - val_loss: 0.4652 - val_accuracy: 0.7914\n",
      "Epoch 7/10\n",
      "546/546 [==============================] - 502s 919ms/step - loss: 0.3039 - accuracy: 0.8691 - val_loss: 0.4909 - val_accuracy: 0.7791\n",
      "Epoch 8/10\n",
      "546/546 [==============================] - 506s 927ms/step - loss: 0.2517 - accuracy: 0.8966 - val_loss: 0.5270 - val_accuracy: 0.7870\n",
      "Epoch 9/10\n",
      "546/546 [==============================] - 541s 991ms/step - loss: 0.1882 - accuracy: 0.9254 - val_loss: 0.5991 - val_accuracy: 0.7790\n",
      "Epoch 10/10\n",
      "546/546 [==============================] - 593s 1s/step - loss: 0.1433 - accuracy: 0.9466 - val_loss: 0.6906 - val_accuracy: 0.7783\n"
     ]
    },
    {
     "output_type": "execute_result",
     "data": {
      "text/plain": [
       "<tensorflow.python.keras.callbacks.History at 0x7fb6f6b27650>"
      ]
     },
     "metadata": {},
     "execution_count": 1
    }
   ],
   "source": [
    "import tensorflow as tf\n",
    "import numpy as np\n",
    "from tensorflow.keras.datasets import cifar10\n",
    "from tensorflow.keras.preprocessing.image import ImageDataGenerator\n",
    "from tensorflow.keras.models import Sequential\n",
    "from tensorflow.keras.layers import Dense, Dropout, Activation, Flatten, Conv2D, MaxPooling2D\n",
    "from tensorflow.keras.callbacks import TensorBoard\n",
    "import pickle\n",
    "import time\n",
    "\n",
    "NAME = 'Cats-vs-dog-cnn-64x2-{}'.format(int(time.time()))\n",
    "\n",
    "tensorboard = TensorBoard(log_dir='logs/{}'.format(NAME))\n",
    "\n",
    "gpu_options = tf.compat.v1.GPUOptions(per_process_gpu_memory_fraction=0.333)\n",
    "sess = tf.compat.v1.Session(config=tf.compat.v1.ConfigProto(gpu_options=gpu_options))\n",
    "\n",
    "pickle_in = open(\"X.pickle\",\"rb\")\n",
    "X = pickle.load(pickle_in)\n",
    "\n",
    "pickle_in = open(\"y.pickle\",\"rb\")\n",
    "y = pickle.load(pickle_in)\n",
    "\n",
    "X = np.array(X/255.0)\n",
    "y = np.array(y)\n",
    "\n",
    "model = Sequential()\n",
    "\n",
    "model.add(Conv2D(256, (3, 3), input_shape=X.shape[1:]))\n",
    "model.add(Activation('relu'))\n",
    "model.add(MaxPooling2D(pool_size=(2, 2)))\n",
    "\n",
    "model.add(Conv2D(256, (3, 3)))\n",
    "model.add(Activation('relu'))\n",
    "model.add(MaxPooling2D(pool_size=(2, 2)))\n",
    "\n",
    "model.add(Flatten())\n",
    "\n",
    "model.add(Dense(64))\n",
    "model.add(Activation('relu'))\n",
    "\n",
    "model.add(Dense(1))\n",
    "model.add(Activation('sigmoid'))\n",
    "\n",
    "model.compile(loss='binary_crossentropy',\n",
    "              optimizer='adam',\n",
    "              metrics=['accuracy'])\n",
    "\n",
    "model.fit(X, y, batch_size=32, epochs=10, validation_split=0.3, callbacks=[tensorboard]) # Note lots of other callback options see tensorflow website"
   ]
  },
  {
   "cell_type": "code",
   "execution_count": null,
   "metadata": {},
   "outputs": [],
   "source": [
    "# For terminal\n",
    "# tensorboard --logdir='logs/'"
   ]
  }
 ]
}