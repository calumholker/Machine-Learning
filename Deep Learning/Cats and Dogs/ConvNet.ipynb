{
 "metadata": {
  "language_info": {
   "codemirror_mode": {
    "name": "ipython",
    "version": 3
   },
   "file_extension": ".py",
   "mimetype": "text/x-python",
   "name": "python",
   "nbconvert_exporter": "python",
   "pygments_lexer": "ipython3",
   "version": "3.8.5-final"
  },
  "orig_nbformat": 2,
  "kernelspec": {
   "name": "python3",
   "display_name": "Python 3.8.5 64-bit ('base': conda)",
   "metadata": {
    "interpreter": {
     "hash": "dca0ade3e726a953b501b15e8e990130d2b7799f14cfd9f4271676035ebe5511"
    }
   }
  }
 },
 "nbformat": 4,
 "nbformat_minor": 2,
 "cells": [
  {
   "cell_type": "code",
   "execution_count": 2,
   "metadata": {},
   "outputs": [
    {
     "output_type": "stream",
     "name": "stdout",
     "text": [
      "2.4.1\n"
     ]
    }
   ],
   "source": [
    "import tensorflow as tf\n",
    "from tensorflow.python.framework.ops import disable_eager_execution\n",
    "disable_eager_execution()\n",
    "print(tf.__version__)\n",
    "import numpy as np\n",
    "from tensorflow.keras.datasets import cifar10\n",
    "from tensorflow.keras.preprocessing.image import ImageDataGenerator\n",
    "from tensorflow.keras.models import Sequential\n",
    "from tensorflow.keras.layers import Dense, Dropout, Activation, Flatten, Conv2D, MaxPooling2D\n",
    "from tensorflow.keras.callbacks import TensorBoard\n",
    "import pickle\n",
    "import time"
   ]
  },
  {
   "cell_type": "code",
   "execution_count": 3,
   "metadata": {},
   "outputs": [
    {
     "output_type": "stream",
     "name": "stdout",
     "text": [
      "Train on 17462 samples, validate on 7484 samples\n",
      "Epoch 1/10\n",
      "17462/17462 [==============================] - 102s 6ms/sample - loss: 0.6543 - accuracy: 0.6045 - val_loss: 0.6016 - val_accuracy: 0.6905\n",
      "Epoch 2/10\n",
      "17462/17462 [==============================] - 118s 7ms/sample - loss: 0.5677 - accuracy: 0.7094 - val_loss: 0.5701 - val_accuracy: 0.7079\n",
      "Epoch 3/10\n",
      "17462/17462 [==============================] - 89s 5ms/sample - loss: 0.5195 - accuracy: 0.7443 - val_loss: 0.5457 - val_accuracy: 0.7195\n",
      "Epoch 4/10\n",
      "17462/17462 [==============================] - 87s 5ms/sample - loss: 0.4793 - accuracy: 0.7721 - val_loss: 0.4906 - val_accuracy: 0.7623\n",
      "Epoch 5/10\n",
      "17462/17462 [==============================] - 94s 5ms/sample - loss: 0.4457 - accuracy: 0.7910 - val_loss: 0.4965 - val_accuracy: 0.7551\n",
      "Epoch 6/10\n",
      "17462/17462 [==============================] - 87s 5ms/sample - loss: 0.4202 - accuracy: 0.8082 - val_loss: 0.4459 - val_accuracy: 0.7930\n",
      "Epoch 7/10\n",
      "17462/17462 [==============================] - 77s 4ms/sample - loss: 0.3951 - accuracy: 0.8192 - val_loss: 0.4417 - val_accuracy: 0.7981\n",
      "Epoch 8/10\n",
      "17462/17462 [==============================] - 75s 4ms/sample - loss: 0.3713 - accuracy: 0.8316 - val_loss: 0.4217 - val_accuracy: 0.8067\n",
      "Epoch 9/10\n",
      "17462/17462 [==============================] - 76s 4ms/sample - loss: 0.3500 - accuracy: 0.8430 - val_loss: 0.4152 - val_accuracy: 0.8088\n",
      "Epoch 10/10\n",
      "17462/17462 [==============================] - 88s 5ms/sample - loss: 0.3273 - accuracy: 0.8589 - val_loss: 0.4099 - val_accuracy: 0.8140\n",
      "INFO:tensorflow:Assets written to: 64x3-CNN.model/assets\n"
     ]
    }
   ],
   "source": [
    "pickle_in = open(\"X.pickle\",\"rb\")\n",
    "X = pickle.load(pickle_in)\n",
    "\n",
    "pickle_in = open(\"y.pickle\",\"rb\")\n",
    "y = pickle.load(pickle_in)\n",
    "\n",
    "X = np.array(X/255.0)\n",
    "y = np.array(y)\n",
    "\n",
    "dense_layers = [0]\n",
    "layer_sizes = [64]\n",
    "conv_layers = [3]\n",
    "\n",
    "for dense_layer in dense_layers:\n",
    "    for layer_size in layer_sizes:\n",
    "        for conv_layer in conv_layers:\n",
    "            # NAME = \"{}-conv-{}-nodes-{}-dense-{}\".format(conv_layer, layer_size, dense_layer, int(time.time())) \n",
    "\n",
    "            # tensorboard = TensorBoard(log_dir='logs/{}'.format(NAME))\n",
    "\n",
    "            model = Sequential()\n",
    "\n",
    "            model.add(Conv2D(layer_size, (3, 3), input_shape=X.shape[1:]))\n",
    "            model.add(Activation('relu'))\n",
    "            model.add(MaxPooling2D(pool_size=(2, 2)))\n",
    "\n",
    "            for l in range(conv_layer-1):\n",
    "                model.add(Conv2D(layer_size, (3, 3)))\n",
    "                model.add(Activation('relu'))\n",
    "                model.add(MaxPooling2D(pool_size=(2, 2)))\n",
    "\n",
    "            model.add(Flatten())\n",
    "\n",
    "            for l in range(dense_layer):\n",
    "                model.add(Dense(layer_size))\n",
    "                model.add(Activation('relu'))\n",
    "\n",
    "            model.add(Dense(1))\n",
    "            model.add(Activation('sigmoid'))\n",
    "\n",
    "            model.compile(loss='binary_crossentropy',\n",
    "                        optimizer='adam',\n",
    "                        metrics=['accuracy'])\n",
    "\n",
    "            model.fit(X, y, batch_size=32, epochs=10, validation_split=0.3) # Note lots of other callback options see tensorflow website callbacks = [tensorboard]\n",
    "\n",
    "# For terminal\n",
    "# tensorboard --logdir='logs/'\n",
    "model.save('64x3-CNN.model')"
   ]
  }
 ]
}